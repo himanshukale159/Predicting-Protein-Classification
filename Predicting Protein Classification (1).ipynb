{
 "cells": [
  {
   "attachments": {},
   "cell_type": "markdown",
   "id": "c0071208",
   "metadata": {},
   "source": [
    "# Project Title : Predicting Protien Classification\n",
    "\n",
    "# Submitted By :\n",
    " \n",
    "1. Himanshu Kale (22MM62R08)\n",
    "2. Sohom Basak (22MM62R09)\n",
    "3. Srijit Set (22MM62R10)\n",
    "\n",
    "-------------------------------------------------------------------------------------------------------------------------------\n",
    "\n",
    "# Goal :\n",
    "\n",
    "The question of whether it is possible to identify a protein's family type based on sequence arises since these proteins have several family types. It would be fascinating to explore if a machine learning strategy can successfully classify a protein's family based on the protein sequence. Notable search engines such as BLAST have this capability.\n",
    "\n",
    "# Datasets :\n",
    "\n",
    "We have two datasets viz.\n",
    "1. id_class.csv\n",
    "\n",
    "This dataset has the following features:\n",
    "* structureId\n",
    "* classification\t\n",
    "* experimentalTechnique\t\n",
    "* macromoleculeType\t\n",
    "* residueCount\t\n",
    "* resolution\t\n",
    "* structureMolecularWeight\t\n",
    "* crystallizationMethod\t\n",
    "* crystallizationTempK\t\n",
    "* densityMatthews\t\n",
    "* densityPercentSol\t\n",
    "* pdbxDetails\t\n",
    "* phValue\t\n",
    "* publicationYear\n",
    "\n",
    "2. id_seq.csv\n",
    "\n",
    "This dataset has the following features:\n",
    "* structureId\t\n",
    "* chainId\t\n",
    "* sequence\t\n",
    "* residueCount\t\n",
    "* macromoleculeType"
   ]
  },
  {
   "cell_type": "code",
   "execution_count": 1,
   "id": "53bb7756",
   "metadata": {},
   "outputs": [],
   "source": [
    "import pandas as pd\n",
    "import numpy as np\n",
    "dataset2 = pd.read_csv('id_class.csv')\n",
    "dataset1 = pd.read_csv('id_seq.csv')"
   ]
  },
  {
   "cell_type": "code",
   "execution_count": 2,
   "id": "cecbc497",
   "metadata": {
    "scrolled": false
   },
   "outputs": [
    {
     "data": {
      "text/html": [
       "<div>\n",
       "<style scoped>\n",
       "    .dataframe tbody tr th:only-of-type {\n",
       "        vertical-align: middle;\n",
       "    }\n",
       "\n",
       "    .dataframe tbody tr th {\n",
       "        vertical-align: top;\n",
       "    }\n",
       "\n",
       "    .dataframe thead th {\n",
       "        text-align: right;\n",
       "    }\n",
       "</style>\n",
       "<table border=\"1\" class=\"dataframe\">\n",
       "  <thead>\n",
       "    <tr style=\"text-align: right;\">\n",
       "      <th></th>\n",
       "      <th>structureId</th>\n",
       "      <th>chainId</th>\n",
       "      <th>sequence</th>\n",
       "      <th>residueCount</th>\n",
       "      <th>macromoleculeType</th>\n",
       "    </tr>\n",
       "  </thead>\n",
       "  <tbody>\n",
       "    <tr>\n",
       "      <th>0</th>\n",
       "      <td>100D</td>\n",
       "      <td>A</td>\n",
       "      <td>CCGGCGCCGG</td>\n",
       "      <td>20</td>\n",
       "      <td>DNA/RNA Hybrid</td>\n",
       "    </tr>\n",
       "    <tr>\n",
       "      <th>1</th>\n",
       "      <td>100D</td>\n",
       "      <td>B</td>\n",
       "      <td>CCGGCGCCGG</td>\n",
       "      <td>20</td>\n",
       "      <td>DNA/RNA Hybrid</td>\n",
       "    </tr>\n",
       "    <tr>\n",
       "      <th>2</th>\n",
       "      <td>101D</td>\n",
       "      <td>A</td>\n",
       "      <td>CGCGAATTCGCG</td>\n",
       "      <td>24</td>\n",
       "      <td>DNA</td>\n",
       "    </tr>\n",
       "    <tr>\n",
       "      <th>3</th>\n",
       "      <td>101D</td>\n",
       "      <td>B</td>\n",
       "      <td>CGCGAATTCGCG</td>\n",
       "      <td>24</td>\n",
       "      <td>DNA</td>\n",
       "    </tr>\n",
       "    <tr>\n",
       "      <th>4</th>\n",
       "      <td>101M</td>\n",
       "      <td>A</td>\n",
       "      <td>MVLSEGEWQLVLHVWAKVEADVAGHGQDILIRLFKSHPETLEKFDR...</td>\n",
       "      <td>154</td>\n",
       "      <td>Protein</td>\n",
       "    </tr>\n",
       "    <tr>\n",
       "      <th>...</th>\n",
       "      <td>...</td>\n",
       "      <td>...</td>\n",
       "      <td>...</td>\n",
       "      <td>...</td>\n",
       "      <td>...</td>\n",
       "    </tr>\n",
       "    <tr>\n",
       "      <th>467299</th>\n",
       "      <td>9XIA</td>\n",
       "      <td>A</td>\n",
       "      <td>MNYQPTPEDRFTFGLWTVGWQGRDPFGDATRRALDPVESVQRLAEL...</td>\n",
       "      <td>388</td>\n",
       "      <td>Protein</td>\n",
       "    </tr>\n",
       "    <tr>\n",
       "      <th>467300</th>\n",
       "      <td>9XIM</td>\n",
       "      <td>A</td>\n",
       "      <td>SVQATREDKFSFGLWTVGWQARDAFGDATRTALDPVEAVHKLAEIG...</td>\n",
       "      <td>1572</td>\n",
       "      <td>Protein</td>\n",
       "    </tr>\n",
       "    <tr>\n",
       "      <th>467301</th>\n",
       "      <td>9XIM</td>\n",
       "      <td>B</td>\n",
       "      <td>SVQATREDKFSFGLWTVGWQARDAFGDATRTALDPVEAVHKLAEIG...</td>\n",
       "      <td>1572</td>\n",
       "      <td>Protein</td>\n",
       "    </tr>\n",
       "    <tr>\n",
       "      <th>467302</th>\n",
       "      <td>9XIM</td>\n",
       "      <td>C</td>\n",
       "      <td>SVQATREDKFSFGLWTVGWQARDAFGDATRTALDPVEAVHKLAEIG...</td>\n",
       "      <td>1572</td>\n",
       "      <td>Protein</td>\n",
       "    </tr>\n",
       "    <tr>\n",
       "      <th>467303</th>\n",
       "      <td>9XIM</td>\n",
       "      <td>D</td>\n",
       "      <td>SVQATREDKFSFGLWTVGWQARDAFGDATRTALDPVEAVHKLAEIG...</td>\n",
       "      <td>1572</td>\n",
       "      <td>Protein</td>\n",
       "    </tr>\n",
       "  </tbody>\n",
       "</table>\n",
       "<p>467304 rows × 5 columns</p>\n",
       "</div>"
      ],
      "text/plain": [
       "       structureId chainId                                           sequence  \\\n",
       "0             100D       A                                         CCGGCGCCGG   \n",
       "1             100D       B                                         CCGGCGCCGG   \n",
       "2             101D       A                                       CGCGAATTCGCG   \n",
       "3             101D       B                                       CGCGAATTCGCG   \n",
       "4             101M       A  MVLSEGEWQLVLHVWAKVEADVAGHGQDILIRLFKSHPETLEKFDR...   \n",
       "...            ...     ...                                                ...   \n",
       "467299        9XIA       A  MNYQPTPEDRFTFGLWTVGWQGRDPFGDATRRALDPVESVQRLAEL...   \n",
       "467300        9XIM       A  SVQATREDKFSFGLWTVGWQARDAFGDATRTALDPVEAVHKLAEIG...   \n",
       "467301        9XIM       B  SVQATREDKFSFGLWTVGWQARDAFGDATRTALDPVEAVHKLAEIG...   \n",
       "467302        9XIM       C  SVQATREDKFSFGLWTVGWQARDAFGDATRTALDPVEAVHKLAEIG...   \n",
       "467303        9XIM       D  SVQATREDKFSFGLWTVGWQARDAFGDATRTALDPVEAVHKLAEIG...   \n",
       "\n",
       "        residueCount macromoleculeType  \n",
       "0                 20    DNA/RNA Hybrid  \n",
       "1                 20    DNA/RNA Hybrid  \n",
       "2                 24               DNA  \n",
       "3                 24               DNA  \n",
       "4                154           Protein  \n",
       "...              ...               ...  \n",
       "467299           388           Protein  \n",
       "467300          1572           Protein  \n",
       "467301          1572           Protein  \n",
       "467302          1572           Protein  \n",
       "467303          1572           Protein  \n",
       "\n",
       "[467304 rows x 5 columns]"
      ]
     },
     "execution_count": 2,
     "metadata": {},
     "output_type": "execute_result"
    }
   ],
   "source": [
    "dataset1"
   ]
  },
  {
   "cell_type": "code",
   "execution_count": 3,
   "id": "91f93f08",
   "metadata": {},
   "outputs": [
    {
     "data": {
      "text/html": [
       "<div>\n",
       "<style scoped>\n",
       "    .dataframe tbody tr th:only-of-type {\n",
       "        vertical-align: middle;\n",
       "    }\n",
       "\n",
       "    .dataframe tbody tr th {\n",
       "        vertical-align: top;\n",
       "    }\n",
       "\n",
       "    .dataframe thead th {\n",
       "        text-align: right;\n",
       "    }\n",
       "</style>\n",
       "<table border=\"1\" class=\"dataframe\">\n",
       "  <thead>\n",
       "    <tr style=\"text-align: right;\">\n",
       "      <th></th>\n",
       "      <th>structureId</th>\n",
       "      <th>classification</th>\n",
       "      <th>experimentalTechnique</th>\n",
       "      <th>macromoleculeType</th>\n",
       "      <th>residueCount</th>\n",
       "      <th>resolution</th>\n",
       "      <th>structureMolecularWeight</th>\n",
       "      <th>crystallizationMethod</th>\n",
       "      <th>crystallizationTempK</th>\n",
       "      <th>densityMatthews</th>\n",
       "      <th>densityPercentSol</th>\n",
       "      <th>pdbxDetails</th>\n",
       "      <th>phValue</th>\n",
       "      <th>publicationYear</th>\n",
       "    </tr>\n",
       "  </thead>\n",
       "  <tbody>\n",
       "    <tr>\n",
       "      <th>0</th>\n",
       "      <td>100D</td>\n",
       "      <td>DNA-RNA HYBRID</td>\n",
       "      <td>X-RAY DIFFRACTION</td>\n",
       "      <td>DNA/RNA Hybrid</td>\n",
       "      <td>20</td>\n",
       "      <td>1.90</td>\n",
       "      <td>6360.30</td>\n",
       "      <td>VAPOR DIFFUSION, HANGING DROP</td>\n",
       "      <td>NaN</td>\n",
       "      <td>1.78</td>\n",
       "      <td>30.89</td>\n",
       "      <td>pH 7.00, VAPOR DIFFUSION, HANGING DROP</td>\n",
       "      <td>7.0</td>\n",
       "      <td>1994.0</td>\n",
       "    </tr>\n",
       "    <tr>\n",
       "      <th>1</th>\n",
       "      <td>101D</td>\n",
       "      <td>DNA</td>\n",
       "      <td>X-RAY DIFFRACTION</td>\n",
       "      <td>DNA</td>\n",
       "      <td>24</td>\n",
       "      <td>2.25</td>\n",
       "      <td>7939.35</td>\n",
       "      <td>NaN</td>\n",
       "      <td>NaN</td>\n",
       "      <td>2.00</td>\n",
       "      <td>38.45</td>\n",
       "      <td>NaN</td>\n",
       "      <td>NaN</td>\n",
       "      <td>1995.0</td>\n",
       "    </tr>\n",
       "    <tr>\n",
       "      <th>2</th>\n",
       "      <td>101M</td>\n",
       "      <td>OXYGEN TRANSPORT</td>\n",
       "      <td>X-RAY DIFFRACTION</td>\n",
       "      <td>Protein</td>\n",
       "      <td>154</td>\n",
       "      <td>2.07</td>\n",
       "      <td>18112.80</td>\n",
       "      <td>NaN</td>\n",
       "      <td>NaN</td>\n",
       "      <td>3.09</td>\n",
       "      <td>60.20</td>\n",
       "      <td>3.0 M AMMONIUM SULFATE, 20 MM TRIS, 1MM EDTA, ...</td>\n",
       "      <td>9.0</td>\n",
       "      <td>1999.0</td>\n",
       "    </tr>\n",
       "    <tr>\n",
       "      <th>3</th>\n",
       "      <td>102D</td>\n",
       "      <td>DNA</td>\n",
       "      <td>X-RAY DIFFRACTION</td>\n",
       "      <td>DNA</td>\n",
       "      <td>24</td>\n",
       "      <td>2.20</td>\n",
       "      <td>7637.17</td>\n",
       "      <td>VAPOR DIFFUSION, SITTING DROP</td>\n",
       "      <td>277.0</td>\n",
       "      <td>2.28</td>\n",
       "      <td>46.06</td>\n",
       "      <td>pH 7.00, VAPOR DIFFUSION, SITTING DROP, temper...</td>\n",
       "      <td>7.0</td>\n",
       "      <td>1995.0</td>\n",
       "    </tr>\n",
       "    <tr>\n",
       "      <th>4</th>\n",
       "      <td>102L</td>\n",
       "      <td>HYDROLASE(O-GLYCOSYL)</td>\n",
       "      <td>X-RAY DIFFRACTION</td>\n",
       "      <td>Protein</td>\n",
       "      <td>165</td>\n",
       "      <td>1.74</td>\n",
       "      <td>18926.61</td>\n",
       "      <td>NaN</td>\n",
       "      <td>NaN</td>\n",
       "      <td>2.75</td>\n",
       "      <td>55.28</td>\n",
       "      <td>NaN</td>\n",
       "      <td>NaN</td>\n",
       "      <td>1993.0</td>\n",
       "    </tr>\n",
       "    <tr>\n",
       "      <th>...</th>\n",
       "      <td>...</td>\n",
       "      <td>...</td>\n",
       "      <td>...</td>\n",
       "      <td>...</td>\n",
       "      <td>...</td>\n",
       "      <td>...</td>\n",
       "      <td>...</td>\n",
       "      <td>...</td>\n",
       "      <td>...</td>\n",
       "      <td>...</td>\n",
       "      <td>...</td>\n",
       "      <td>...</td>\n",
       "      <td>...</td>\n",
       "      <td>...</td>\n",
       "    </tr>\n",
       "    <tr>\n",
       "      <th>141396</th>\n",
       "      <td>9RUB</td>\n",
       "      <td>LYASE(CARBON-CARBON)</td>\n",
       "      <td>X-RAY DIFFRACTION</td>\n",
       "      <td>Protein</td>\n",
       "      <td>932</td>\n",
       "      <td>2.60</td>\n",
       "      <td>101838.68</td>\n",
       "      <td>NaN</td>\n",
       "      <td>NaN</td>\n",
       "      <td>2.38</td>\n",
       "      <td>48.29</td>\n",
       "      <td>NaN</td>\n",
       "      <td>NaN</td>\n",
       "      <td>1991.0</td>\n",
       "    </tr>\n",
       "    <tr>\n",
       "      <th>141397</th>\n",
       "      <td>9TNA</td>\n",
       "      <td>T-RNA</td>\n",
       "      <td>X-RAY DIFFRACTION</td>\n",
       "      <td>NaN</td>\n",
       "      <td>0</td>\n",
       "      <td>NaN</td>\n",
       "      <td>24244.34</td>\n",
       "      <td>NaN</td>\n",
       "      <td>NaN</td>\n",
       "      <td>3.17</td>\n",
       "      <td>61.18</td>\n",
       "      <td>NaN</td>\n",
       "      <td>NaN</td>\n",
       "      <td>1986.0</td>\n",
       "    </tr>\n",
       "    <tr>\n",
       "      <th>141398</th>\n",
       "      <td>9WGA</td>\n",
       "      <td>LECTIN (AGGLUTININ)</td>\n",
       "      <td>X-RAY DIFFRACTION</td>\n",
       "      <td>Protein</td>\n",
       "      <td>342</td>\n",
       "      <td>1.80</td>\n",
       "      <td>34270.22</td>\n",
       "      <td>NaN</td>\n",
       "      <td>NaN</td>\n",
       "      <td>2.50</td>\n",
       "      <td>50.76</td>\n",
       "      <td>NaN</td>\n",
       "      <td>NaN</td>\n",
       "      <td>1990.0</td>\n",
       "    </tr>\n",
       "    <tr>\n",
       "      <th>141399</th>\n",
       "      <td>9XIA</td>\n",
       "      <td>ISOMERASE(INTRAMOLECULAR OXIDOREDUCTASE)</td>\n",
       "      <td>X-RAY DIFFRACTION</td>\n",
       "      <td>Protein</td>\n",
       "      <td>388</td>\n",
       "      <td>1.90</td>\n",
       "      <td>43542.29</td>\n",
       "      <td>NaN</td>\n",
       "      <td>NaN</td>\n",
       "      <td>2.79</td>\n",
       "      <td>55.93</td>\n",
       "      <td>NaN</td>\n",
       "      <td>NaN</td>\n",
       "      <td>1989.0</td>\n",
       "    </tr>\n",
       "    <tr>\n",
       "      <th>141400</th>\n",
       "      <td>9XIM</td>\n",
       "      <td>ISOMERASE(INTRAMOLECULAR OXIDOREDUCTASE)</td>\n",
       "      <td>X-RAY DIFFRACTION</td>\n",
       "      <td>Protein</td>\n",
       "      <td>1572</td>\n",
       "      <td>2.40</td>\n",
       "      <td>174722.12</td>\n",
       "      <td>NaN</td>\n",
       "      <td>NaN</td>\n",
       "      <td>3.96</td>\n",
       "      <td>68.92</td>\n",
       "      <td>NaN</td>\n",
       "      <td>NaN</td>\n",
       "      <td>1992.0</td>\n",
       "    </tr>\n",
       "  </tbody>\n",
       "</table>\n",
       "<p>141401 rows × 14 columns</p>\n",
       "</div>"
      ],
      "text/plain": [
       "       structureId                            classification  \\\n",
       "0             100D                            DNA-RNA HYBRID   \n",
       "1             101D                                       DNA   \n",
       "2             101M                          OXYGEN TRANSPORT   \n",
       "3             102D                                       DNA   \n",
       "4             102L                     HYDROLASE(O-GLYCOSYL)   \n",
       "...            ...                                       ...   \n",
       "141396        9RUB                      LYASE(CARBON-CARBON)   \n",
       "141397        9TNA                                     T-RNA   \n",
       "141398        9WGA                       LECTIN (AGGLUTININ)   \n",
       "141399        9XIA  ISOMERASE(INTRAMOLECULAR OXIDOREDUCTASE)   \n",
       "141400        9XIM  ISOMERASE(INTRAMOLECULAR OXIDOREDUCTASE)   \n",
       "\n",
       "       experimentalTechnique macromoleculeType  residueCount  resolution  \\\n",
       "0          X-RAY DIFFRACTION    DNA/RNA Hybrid            20        1.90   \n",
       "1          X-RAY DIFFRACTION               DNA            24        2.25   \n",
       "2          X-RAY DIFFRACTION           Protein           154        2.07   \n",
       "3          X-RAY DIFFRACTION               DNA            24        2.20   \n",
       "4          X-RAY DIFFRACTION           Protein           165        1.74   \n",
       "...                      ...               ...           ...         ...   \n",
       "141396     X-RAY DIFFRACTION           Protein           932        2.60   \n",
       "141397     X-RAY DIFFRACTION               NaN             0         NaN   \n",
       "141398     X-RAY DIFFRACTION           Protein           342        1.80   \n",
       "141399     X-RAY DIFFRACTION           Protein           388        1.90   \n",
       "141400     X-RAY DIFFRACTION           Protein          1572        2.40   \n",
       "\n",
       "        structureMolecularWeight          crystallizationMethod  \\\n",
       "0                        6360.30  VAPOR DIFFUSION, HANGING DROP   \n",
       "1                        7939.35                            NaN   \n",
       "2                       18112.80                            NaN   \n",
       "3                        7637.17  VAPOR DIFFUSION, SITTING DROP   \n",
       "4                       18926.61                            NaN   \n",
       "...                          ...                            ...   \n",
       "141396                 101838.68                            NaN   \n",
       "141397                  24244.34                            NaN   \n",
       "141398                  34270.22                            NaN   \n",
       "141399                  43542.29                            NaN   \n",
       "141400                 174722.12                            NaN   \n",
       "\n",
       "        crystallizationTempK  densityMatthews  densityPercentSol  \\\n",
       "0                        NaN             1.78              30.89   \n",
       "1                        NaN             2.00              38.45   \n",
       "2                        NaN             3.09              60.20   \n",
       "3                      277.0             2.28              46.06   \n",
       "4                        NaN             2.75              55.28   \n",
       "...                      ...              ...                ...   \n",
       "141396                   NaN             2.38              48.29   \n",
       "141397                   NaN             3.17              61.18   \n",
       "141398                   NaN             2.50              50.76   \n",
       "141399                   NaN             2.79              55.93   \n",
       "141400                   NaN             3.96              68.92   \n",
       "\n",
       "                                              pdbxDetails  phValue  \\\n",
       "0                  pH 7.00, VAPOR DIFFUSION, HANGING DROP      7.0   \n",
       "1                                                     NaN      NaN   \n",
       "2       3.0 M AMMONIUM SULFATE, 20 MM TRIS, 1MM EDTA, ...      9.0   \n",
       "3       pH 7.00, VAPOR DIFFUSION, SITTING DROP, temper...      7.0   \n",
       "4                                                     NaN      NaN   \n",
       "...                                                   ...      ...   \n",
       "141396                                                NaN      NaN   \n",
       "141397                                                NaN      NaN   \n",
       "141398                                                NaN      NaN   \n",
       "141399                                                NaN      NaN   \n",
       "141400                                                NaN      NaN   \n",
       "\n",
       "        publicationYear  \n",
       "0                1994.0  \n",
       "1                1995.0  \n",
       "2                1999.0  \n",
       "3                1995.0  \n",
       "4                1993.0  \n",
       "...                 ...  \n",
       "141396           1991.0  \n",
       "141397           1986.0  \n",
       "141398           1990.0  \n",
       "141399           1989.0  \n",
       "141400           1992.0  \n",
       "\n",
       "[141401 rows x 14 columns]"
      ]
     },
     "execution_count": 3,
     "metadata": {},
     "output_type": "execute_result"
    }
   ],
   "source": [
    "dataset2"
   ]
  },
  {
   "cell_type": "markdown",
   "id": "979936fc",
   "metadata": {},
   "source": [
    "# 1. Data Preprocessing\n",
    "\n",
    "# 1.1 Extract Protein out of the Dataset\n",
    "\n",
    "   The goal of the project is to classify the 'proteins' into their family types.But it can be observed that the dataset also contains some macromolecules that are not Proteins these macromolecules are not of the interest of the project.Hence we will try to extract all protein data from the 'dataset1' and 'dataset2' into two new protein dataset viz. 'd1' and 'd2'"
   ]
  },
  {
   "cell_type": "code",
   "execution_count": 4,
   "id": "30a8adc7",
   "metadata": {},
   "outputs": [
    {
     "data": {
      "text/plain": [
       "(345180, 5)"
      ]
     },
     "execution_count": 4,
     "metadata": {},
     "output_type": "execute_result"
    }
   ],
   "source": [
    "\n",
    "d1 = dataset1.loc[dataset1['macromoleculeType']=='Protein']\n",
    "\n",
    "d1.shape"
   ]
  },
  {
   "cell_type": "code",
   "execution_count": 5,
   "id": "fcd99b17",
   "metadata": {},
   "outputs": [
    {
     "data": {
      "text/plain": [
       "(127798, 14)"
      ]
     },
     "execution_count": 5,
     "metadata": {},
     "output_type": "execute_result"
    }
   ],
   "source": [
    "d2 = dataset2.loc[dataset2['macromoleculeType']=='Protein']\n",
    "\n",
    "d2.shape"
   ]
  },
  {
   "cell_type": "markdown",
   "id": "357b2116",
   "metadata": {},
   "source": [
    "#  1.2 Extracting only specific feature from the datasets\n",
    "\n",
    "The goal is to classify the proteins on the basis of the sequence, so other other features in the dataset are not needed. So we will also exclude them from the dataset.\n",
    "\n",
    "We will now store structureId and sequence from 'd1' into 'data1' and structureId and classification from 'd2' into 'data2'"
   ]
  },
  {
   "cell_type": "code",
   "execution_count": 6,
   "id": "488ec5e0",
   "metadata": {},
   "outputs": [
    {
     "data": {
      "text/plain": [
       "(345180, 2)"
      ]
     },
     "execution_count": 6,
     "metadata": {},
     "output_type": "execute_result"
    }
   ],
   "source": [
    "data1 = d1.loc[:,['structureId','sequence']]\n",
    "\n",
    "data1.shape"
   ]
  },
  {
   "cell_type": "code",
   "execution_count": 7,
   "id": "1bc07131",
   "metadata": {},
   "outputs": [
    {
     "data": {
      "text/plain": [
       "(127798, 2)"
      ]
     },
     "execution_count": 7,
     "metadata": {},
     "output_type": "execute_result"
    }
   ],
   "source": [
    "data2 = d2.loc[:,['structureId','classification']]\n",
    "\n",
    "data2.shape"
   ]
  },
  {
   "cell_type": "markdown",
   "id": "eea967ac",
   "metadata": {},
   "source": [
    "# 1.3 Joining the Datasets\n",
    "\n",
    "It is better if we join the dataset so that we can give a single dataset to the Machine Learing model for training."
   ]
  },
  {
   "cell_type": "code",
   "execution_count": 8,
   "id": "c15c8c9f",
   "metadata": {},
   "outputs": [
    {
     "data": {
      "text/html": [
       "<div>\n",
       "<style scoped>\n",
       "    .dataframe tbody tr th:only-of-type {\n",
       "        vertical-align: middle;\n",
       "    }\n",
       "\n",
       "    .dataframe tbody tr th {\n",
       "        vertical-align: top;\n",
       "    }\n",
       "\n",
       "    .dataframe thead th {\n",
       "        text-align: right;\n",
       "    }\n",
       "</style>\n",
       "<table border=\"1\" class=\"dataframe\">\n",
       "  <thead>\n",
       "    <tr style=\"text-align: right;\">\n",
       "      <th></th>\n",
       "      <th>structureId</th>\n",
       "      <th>sequence</th>\n",
       "      <th>classification</th>\n",
       "    </tr>\n",
       "  </thead>\n",
       "  <tbody>\n",
       "    <tr>\n",
       "      <th>0</th>\n",
       "      <td>101M</td>\n",
       "      <td>MVLSEGEWQLVLHVWAKVEADVAGHGQDILIRLFKSHPETLEKFDR...</td>\n",
       "      <td>OXYGEN TRANSPORT</td>\n",
       "    </tr>\n",
       "    <tr>\n",
       "      <th>1</th>\n",
       "      <td>102L</td>\n",
       "      <td>MNIFEMLRIDEGLRLKIYKDTEGYYTIGIGHLLTKSPSLNAAAKSE...</td>\n",
       "      <td>HYDROLASE(O-GLYCOSYL)</td>\n",
       "    </tr>\n",
       "    <tr>\n",
       "      <th>2</th>\n",
       "      <td>102M</td>\n",
       "      <td>MVLSEGEWQLVLHVWAKVEADVAGHGQDILIRLFKSHPETLEKFDR...</td>\n",
       "      <td>OXYGEN TRANSPORT</td>\n",
       "    </tr>\n",
       "    <tr>\n",
       "      <th>3</th>\n",
       "      <td>103L</td>\n",
       "      <td>MNIFEMLRIDEGLRLKIYKDTEGYYTIGIGHLLTKSPSLNSLDAAK...</td>\n",
       "      <td>HYDROLASE(O-GLYCOSYL)</td>\n",
       "    </tr>\n",
       "    <tr>\n",
       "      <th>4</th>\n",
       "      <td>103M</td>\n",
       "      <td>MVLSEGEWQLVLHVWAKVEADVAGHGQDILIRLFKSHPETLEKFDR...</td>\n",
       "      <td>OXYGEN TRANSPORT</td>\n",
       "    </tr>\n",
       "    <tr>\n",
       "      <th>...</th>\n",
       "      <td>...</td>\n",
       "      <td>...</td>\n",
       "      <td>...</td>\n",
       "    </tr>\n",
       "    <tr>\n",
       "      <th>346320</th>\n",
       "      <td>9XIA</td>\n",
       "      <td>MNYQPTPEDRFTFGLWTVGWQGRDPFGDATRRALDPVESVQRLAEL...</td>\n",
       "      <td>ISOMERASE(INTRAMOLECULAR OXIDOREDUCTASE)</td>\n",
       "    </tr>\n",
       "    <tr>\n",
       "      <th>346321</th>\n",
       "      <td>9XIM</td>\n",
       "      <td>SVQATREDKFSFGLWTVGWQARDAFGDATRTALDPVEAVHKLAEIG...</td>\n",
       "      <td>ISOMERASE(INTRAMOLECULAR OXIDOREDUCTASE)</td>\n",
       "    </tr>\n",
       "    <tr>\n",
       "      <th>346322</th>\n",
       "      <td>9XIM</td>\n",
       "      <td>SVQATREDKFSFGLWTVGWQARDAFGDATRTALDPVEAVHKLAEIG...</td>\n",
       "      <td>ISOMERASE(INTRAMOLECULAR OXIDOREDUCTASE)</td>\n",
       "    </tr>\n",
       "    <tr>\n",
       "      <th>346323</th>\n",
       "      <td>9XIM</td>\n",
       "      <td>SVQATREDKFSFGLWTVGWQARDAFGDATRTALDPVEAVHKLAEIG...</td>\n",
       "      <td>ISOMERASE(INTRAMOLECULAR OXIDOREDUCTASE)</td>\n",
       "    </tr>\n",
       "    <tr>\n",
       "      <th>346324</th>\n",
       "      <td>9XIM</td>\n",
       "      <td>SVQATREDKFSFGLWTVGWQARDAFGDATRTALDPVEAVHKLAEIG...</td>\n",
       "      <td>ISOMERASE(INTRAMOLECULAR OXIDOREDUCTASE)</td>\n",
       "    </tr>\n",
       "  </tbody>\n",
       "</table>\n",
       "<p>346325 rows × 3 columns</p>\n",
       "</div>"
      ],
      "text/plain": [
       "       structureId                                           sequence  \\\n",
       "0             101M  MVLSEGEWQLVLHVWAKVEADVAGHGQDILIRLFKSHPETLEKFDR...   \n",
       "1             102L  MNIFEMLRIDEGLRLKIYKDTEGYYTIGIGHLLTKSPSLNAAAKSE...   \n",
       "2             102M  MVLSEGEWQLVLHVWAKVEADVAGHGQDILIRLFKSHPETLEKFDR...   \n",
       "3             103L  MNIFEMLRIDEGLRLKIYKDTEGYYTIGIGHLLTKSPSLNSLDAAK...   \n",
       "4             103M  MVLSEGEWQLVLHVWAKVEADVAGHGQDILIRLFKSHPETLEKFDR...   \n",
       "...            ...                                                ...   \n",
       "346320        9XIA  MNYQPTPEDRFTFGLWTVGWQGRDPFGDATRRALDPVESVQRLAEL...   \n",
       "346321        9XIM  SVQATREDKFSFGLWTVGWQARDAFGDATRTALDPVEAVHKLAEIG...   \n",
       "346322        9XIM  SVQATREDKFSFGLWTVGWQARDAFGDATRTALDPVEAVHKLAEIG...   \n",
       "346323        9XIM  SVQATREDKFSFGLWTVGWQARDAFGDATRTALDPVEAVHKLAEIG...   \n",
       "346324        9XIM  SVQATREDKFSFGLWTVGWQARDAFGDATRTALDPVEAVHKLAEIG...   \n",
       "\n",
       "                                  classification  \n",
       "0                               OXYGEN TRANSPORT  \n",
       "1                          HYDROLASE(O-GLYCOSYL)  \n",
       "2                               OXYGEN TRANSPORT  \n",
       "3                          HYDROLASE(O-GLYCOSYL)  \n",
       "4                               OXYGEN TRANSPORT  \n",
       "...                                          ...  \n",
       "346320  ISOMERASE(INTRAMOLECULAR OXIDOREDUCTASE)  \n",
       "346321  ISOMERASE(INTRAMOLECULAR OXIDOREDUCTASE)  \n",
       "346322  ISOMERASE(INTRAMOLECULAR OXIDOREDUCTASE)  \n",
       "346323  ISOMERASE(INTRAMOLECULAR OXIDOREDUCTASE)  \n",
       "346324  ISOMERASE(INTRAMOLECULAR OXIDOREDUCTASE)  \n",
       "\n",
       "[346325 rows x 3 columns]"
      ]
     },
     "execution_count": 8,
     "metadata": {},
     "output_type": "execute_result"
    }
   ],
   "source": [
    "df_pre = pd.merge(data1, data2, on='structureId',  how='left')\n",
    "\n",
    "df_pre"
   ]
  },
  {
   "cell_type": "markdown",
   "id": "c5bdd0e0",
   "metadata": {},
   "source": [
    "# 1.4 Missing Value Handling\n",
    "\n",
    "As we have joined two dataset there is a possibility of null value occurance at certain places in the dataset so we need to figure it out. If there arises any null value we will discard them an be ready with our dataset"
   ]
  },
  {
   "cell_type": "code",
   "execution_count": 9,
   "id": "23a59b0b",
   "metadata": {
    "scrolled": true
   },
   "outputs": [
    {
     "data": {
      "text/plain": [
       "structureId       0\n",
       "sequence          3\n",
       "classification    1\n",
       "dtype: int64"
      ]
     },
     "execution_count": 9,
     "metadata": {},
     "output_type": "execute_result"
    }
   ],
   "source": [
    "df_pre.isnull().sum()"
   ]
  },
  {
   "cell_type": "code",
   "execution_count": 10,
   "id": "b89bb0a7",
   "metadata": {},
   "outputs": [
    {
     "data": {
      "text/plain": [
       "(346321, 3)"
      ]
     },
     "execution_count": 10,
     "metadata": {},
     "output_type": "execute_result"
    }
   ],
   "source": [
    "df_1 = df_pre.dropna()\n",
    "\n",
    "df_1.shape"
   ]
  },
  {
   "cell_type": "code",
   "execution_count": 11,
   "id": "cb1904db",
   "metadata": {
    "scrolled": true
   },
   "outputs": [
    {
     "data": {
      "text/plain": [
       "(346321, 2)"
      ]
     },
     "execution_count": 11,
     "metadata": {},
     "output_type": "execute_result"
    }
   ],
   "source": [
    "df = df_1.drop('structureId',axis=1)\n",
    "\n",
    "df.shape"
   ]
  },
  {
   "cell_type": "markdown",
   "id": "55315276",
   "metadata": {},
   "source": [
    "# 1.5 Frequency of occurance of family types \n",
    "\n",
    "There are certain family where the frequency of occurance in the dataset is very low , so this might create a nuisance while the model is being trained.So we will set any arbitary buffer of 500 and consider only those types which have occurance of 500 or more in our dataset. Evaluating this we came to a conclusion that our ML model will classify into 61 protein family types."
   ]
  },
  {
   "cell_type": "code",
   "execution_count": 12,
   "id": "b55382c1",
   "metadata": {
    "scrolled": true
   },
   "outputs": [
    {
     "name": "stdout",
     "output_type": "stream",
     "text": [
      "HYDROLASE                            46336\n",
      "TRANSFERASE                          36424\n",
      "OXIDOREDUCTASE                       34321\n",
      "IMMUNE SYSTEM                        15615\n",
      "LYASE                                11682\n",
      "                                     ...  \n",
      "STRUCTURAL PROTEIN, CELL CYCLE           1\n",
      "KINASE (GLYCOGEN METABOLISM)             1\n",
      "SURFACE GLYCOPROTEIN                     1\n",
      "IMMUNE SYSTEM,HYDROLASE INHIBITOR        1\n",
      "antimicrobial                            1\n",
      "Name: classification, Length: 4468, dtype: int64\n"
     ]
    }
   ],
   "source": [
    "freq = df.classification.value_counts()\n",
    "print(freq)"
   ]
  },
  {
   "cell_type": "code",
   "execution_count": 13,
   "id": "58162821",
   "metadata": {},
   "outputs": [
    {
     "name": "stdout",
     "output_type": "stream",
     "text": [
      "['HYDROLASE' 'TRANSFERASE' 'OXIDOREDUCTASE' 'IMMUNE SYSTEM' 'LYASE'\n",
      " 'HYDROLASE/HYDROLASE INHIBITOR' 'TRANSCRIPTION' 'VIRAL PROTEIN'\n",
      " 'TRANSPORT PROTEIN' 'VIRUS' 'SIGNALING PROTEIN' 'ISOMERASE' 'LIGASE'\n",
      " 'MEMBRANE PROTEIN' 'PROTEIN BINDING' 'STRUCTURAL PROTEIN' 'CHAPERONE'\n",
      " 'STRUCTURAL GENOMICS, UNKNOWN FUNCTION' 'SUGAR BINDING PROTEIN'\n",
      " 'DNA BINDING PROTEIN' 'PHOTOSYNTHESIS' 'ELECTRON TRANSPORT'\n",
      " 'TRANSFERASE/TRANSFERASE INHIBITOR' 'METAL BINDING PROTEIN'\n",
      " 'CELL ADHESION' 'UNKNOWN FUNCTION' 'PROTEIN TRANSPORT' 'TOXIN'\n",
      " 'CELL CYCLE' 'RNA BINDING PROTEIN' 'DE NOVO PROTEIN' 'HORMONE'\n",
      " 'GENE REGULATION' 'OXIDOREDUCTASE/OXIDOREDUCTASE INHIBITOR' 'APOPTOSIS'\n",
      " 'MOTOR PROTEIN' 'PROTEIN FIBRIL' 'METAL TRANSPORT'\n",
      " 'VIRAL PROTEIN/IMMUNE SYSTEM' 'CONTRACTILE PROTEIN' 'FLUORESCENT PROTEIN'\n",
      " 'TRANSLATION' 'BIOSYNTHETIC PROTEIN' 'OXYGEN TRANSPORT'\n",
      " 'structural genomics, unknown function' 'LIPID BINDING PROTEIN'\n",
      " 'CYTOKINE' 'VIRUS LIKE PARTICLE' 'hydrolase/hydrolase inhibitor'\n",
      " 'TRANSCRIPTION REGULATOR' 'OXYGEN STORAGE/TRANSPORT' 'PLANT PROTEIN'\n",
      " 'PEPTIDE BINDING PROTEIN' 'BLOOD CLOTTING' 'ANTIMICROBIAL PROTEIN'\n",
      " 'Hydrolase/Hydrolase Inhibitor' 'HORMONE/GROWTH FACTOR' 'REPLICATION'\n",
      " 'transferase/transferase inhibitor' 'OXIDOREDUCTASE/ELECTRON TRANSPORT'\n",
      " 'LYASE/LYASE INHIBITOR']\n",
      "61\n",
      "291355 is the number of records in the final filtered dataset\n"
     ]
    }
   ],
   "source": [
    "types = np.asarray(freq[(freq > 500)].index)\n",
    "\n",
    "# Filter dataset's records for classification types > 1000\n",
    "data = df[df.classification.isin(types)]\n",
    "\n",
    "print(types)\n",
    "print(len(types))\n",
    "print('%d is the number of records in the final filtered dataset' %data.shape[0])"
   ]
  },
  {
   "cell_type": "code",
   "execution_count": 14,
   "id": "6816642c",
   "metadata": {
    "scrolled": false
   },
   "outputs": [
    {
     "data": {
      "text/html": [
       "<div>\n",
       "<style scoped>\n",
       "    .dataframe tbody tr th:only-of-type {\n",
       "        vertical-align: middle;\n",
       "    }\n",
       "\n",
       "    .dataframe tbody tr th {\n",
       "        vertical-align: top;\n",
       "    }\n",
       "\n",
       "    .dataframe thead th {\n",
       "        text-align: right;\n",
       "    }\n",
       "</style>\n",
       "<table border=\"1\" class=\"dataframe\">\n",
       "  <thead>\n",
       "    <tr style=\"text-align: right;\">\n",
       "      <th></th>\n",
       "      <th>sequence</th>\n",
       "      <th>classification</th>\n",
       "    </tr>\n",
       "  </thead>\n",
       "  <tbody>\n",
       "    <tr>\n",
       "      <th>0</th>\n",
       "      <td>MVLSEGEWQLVLHVWAKVEADVAGHGQDILIRLFKSHPETLEKFDR...</td>\n",
       "      <td>OXYGEN TRANSPORT</td>\n",
       "    </tr>\n",
       "    <tr>\n",
       "      <th>2</th>\n",
       "      <td>MVLSEGEWQLVLHVWAKVEADVAGHGQDILIRLFKSHPETLEKFDR...</td>\n",
       "      <td>OXYGEN TRANSPORT</td>\n",
       "    </tr>\n",
       "    <tr>\n",
       "      <th>4</th>\n",
       "      <td>MVLSEGEWQLVLHVWAKVEADVAGHGQDILIRLFKSHPETLEKFDR...</td>\n",
       "      <td>OXYGEN TRANSPORT</td>\n",
       "    </tr>\n",
       "    <tr>\n",
       "      <th>7</th>\n",
       "      <td>VLSEGEWQLVLHVWAKVEADVAGHGQDILIRLFKSHPETLEKFDRF...</td>\n",
       "      <td>OXYGEN TRANSPORT</td>\n",
       "    </tr>\n",
       "    <tr>\n",
       "      <th>8</th>\n",
       "      <td>VLSEGEWQLVLHVWAKVEADVAGHGQDILIRLFKSHPETLEKFDRF...</td>\n",
       "      <td>OXYGEN TRANSPORT</td>\n",
       "    </tr>\n",
       "    <tr>\n",
       "      <th>...</th>\n",
       "      <td>...</td>\n",
       "      <td>...</td>\n",
       "    </tr>\n",
       "    <tr>\n",
       "      <th>346302</th>\n",
       "      <td>ANIVGGIEYSINNASLCSVGFSVTRGATKGFVTAGHCGTVNATARI...</td>\n",
       "      <td>HYDROLASE/HYDROLASE INHIBITOR</td>\n",
       "    </tr>\n",
       "    <tr>\n",
       "      <th>346303</th>\n",
       "      <td>XAAPL</td>\n",
       "      <td>HYDROLASE/HYDROLASE INHIBITOR</td>\n",
       "    </tr>\n",
       "    <tr>\n",
       "      <th>346306</th>\n",
       "      <td>SRAPAPATPHAPDHSPAPNSPTLTRPPEGPKFPRVKNWELGSITYD...</td>\n",
       "      <td>OXIDOREDUCTASE</td>\n",
       "    </tr>\n",
       "    <tr>\n",
       "      <th>346307</th>\n",
       "      <td>SRAPAPATPHAPDHSPAPNSPTLTRPPEGPKFPRVKNWELGSITYD...</td>\n",
       "      <td>OXIDOREDUCTASE</td>\n",
       "    </tr>\n",
       "    <tr>\n",
       "      <th>346311</th>\n",
       "      <td>LEVLLGSGDGSLVFVPSEFSVPSGEKIVFKNNAGFPHNVVFDEDEI...</td>\n",
       "      <td>ELECTRON TRANSPORT</td>\n",
       "    </tr>\n",
       "  </tbody>\n",
       "</table>\n",
       "<p>291355 rows × 2 columns</p>\n",
       "</div>"
      ],
      "text/plain": [
       "                                                 sequence  \\\n",
       "0       MVLSEGEWQLVLHVWAKVEADVAGHGQDILIRLFKSHPETLEKFDR...   \n",
       "2       MVLSEGEWQLVLHVWAKVEADVAGHGQDILIRLFKSHPETLEKFDR...   \n",
       "4       MVLSEGEWQLVLHVWAKVEADVAGHGQDILIRLFKSHPETLEKFDR...   \n",
       "7       VLSEGEWQLVLHVWAKVEADVAGHGQDILIRLFKSHPETLEKFDRF...   \n",
       "8       VLSEGEWQLVLHVWAKVEADVAGHGQDILIRLFKSHPETLEKFDRF...   \n",
       "...                                                   ...   \n",
       "346302  ANIVGGIEYSINNASLCSVGFSVTRGATKGFVTAGHCGTVNATARI...   \n",
       "346303                                              XAAPL   \n",
       "346306  SRAPAPATPHAPDHSPAPNSPTLTRPPEGPKFPRVKNWELGSITYD...   \n",
       "346307  SRAPAPATPHAPDHSPAPNSPTLTRPPEGPKFPRVKNWELGSITYD...   \n",
       "346311  LEVLLGSGDGSLVFVPSEFSVPSGEKIVFKNNAGFPHNVVFDEDEI...   \n",
       "\n",
       "                       classification  \n",
       "0                    OXYGEN TRANSPORT  \n",
       "2                    OXYGEN TRANSPORT  \n",
       "4                    OXYGEN TRANSPORT  \n",
       "7                    OXYGEN TRANSPORT  \n",
       "8                    OXYGEN TRANSPORT  \n",
       "...                               ...  \n",
       "346302  HYDROLASE/HYDROLASE INHIBITOR  \n",
       "346303  HYDROLASE/HYDROLASE INHIBITOR  \n",
       "346306                 OXIDOREDUCTASE  \n",
       "346307                 OXIDOREDUCTASE  \n",
       "346311             ELECTRON TRANSPORT  \n",
       "\n",
       "[291355 rows x 2 columns]"
      ]
     },
     "execution_count": 14,
     "metadata": {},
     "output_type": "execute_result"
    }
   ],
   "source": [
    "data"
   ]
  },
  {
   "cell_type": "markdown",
   "id": "f2dced4f",
   "metadata": {},
   "source": [
    "# 2. Converting sequence character into numbers\n",
    "\n",
    "We will use countvectorizer from scikit learn for this task.\n",
    "\n",
    "To get contextual information from the sequence of the protein we will use n_gram but the question arises of what dimension to use. So we will check the dimensionality that the countvectorizer returns and plot it on a bar plot"
   ]
  },
  {
   "cell_type": "code",
   "execution_count": 24,
   "id": "a02f79e7",
   "metadata": {},
   "outputs": [
    {
     "name": "stdout",
     "output_type": "stream",
     "text": [
      "[26, 563, 9993, 175744]\n"
     ]
    }
   ],
   "source": [
    "from sklearn.feature_extraction.text import CountVectorizer\n",
    "import matplotlib.pyplot as plt\n",
    "\n",
    "dim = []\n",
    "for i in range(1,5):\n",
    "    vect = CountVectorizer(analyzer = 'char_wb', ngram_range = (i,i))\n",
    "    vect.fit(data['sequence'])\n",
    "    df_new = vect.transform(data['sequence'])\n",
    "    \n",
    "    dim.append(df_new.shape[1])\n",
    "    \n",
    "print(dim)"
   ]
  },
  {
   "cell_type": "code",
   "execution_count": 25,
   "id": "c5d86a20",
   "metadata": {},
   "outputs": [
    {
     "data": {
      "text/plain": [
       "['n_gram(1,1)', 'n_gram(2,2)', 'n_gram(3,3)', 'n_gram(4,4)']"
      ]
     },
     "execution_count": 25,
     "metadata": {},
     "output_type": "execute_result"
    }
   ],
   "source": [
    "ngram = ['n_gram(1,1)','n_gram(2,2)','n_gram(3,3)','n_gram(4,4)']\n",
    "ngram"
   ]
  },
  {
   "cell_type": "code",
   "execution_count": 29,
   "id": "358fd438",
   "metadata": {
    "scrolled": true
   },
   "outputs": [
    {
     "data": {
      "image/png": "[encoded data removed]",
      "text/plain": [
       "<Figure size 432x288 with 1 Axes>"
      ]
     },
     "metadata": {
      "needs_background": "light"
     },
     "output_type": "display_data"
    }
   ],
   "source": [
    "plt.bar(ngram,dim, color ='maroon',\n",
    "        width = 0.9)\n",
    " \n",
    "plt.xlabel(\"n_gram\")\n",
    "plt.ylabel(\"Dimensionality\")\n",
    "plt.title(\"N_gram VS Dimensionality Plot\")\n",
    "plt.show()"
   ]
  },
  {
   "cell_type": "markdown",
   "id": "6a60d84b",
   "metadata": {},
   "source": [
    "From the plot it can be observed that :\n",
    "* As we go on increasing the i value the dimensionality increases.\n",
    "* If we select n_gram(1,1) or n_gram(2,2) the dimensionality would be small but the contextual information would be missing.\n",
    "* If we select n_gram(4,4) then the dimensionality would be very high and would led to Curse of Dimensionality\n",
    "\n",
    "So as an optimal consideration we will be selecting n_gram(3,3)"
   ]
  },
  {
   "cell_type": "markdown",
   "id": "2bef6337",
   "metadata": {},
   "source": [
    "#  3. Splitting of Data for Training and Testing"
   ]
  },
  {
   "cell_type": "code",
   "execution_count": 16,
   "id": "81f1bd35",
   "metadata": {},
   "outputs": [],
   "source": [
    "from sklearn.model_selection import train_test_split\n",
    "from sklearn.feature_extraction.text import CountVectorizer\n",
    "\n",
    "X_train, X_test,y_train,y_test = train_test_split(data['sequence'], data['classification'], test_size = 0.3, random_state = 1)\n",
    "\n",
    "vect = CountVectorizer(analyzer = 'char_wb', ngram_range = (3,3))\n",
    "\n",
    "vect.fit(X_train)\n",
    "X_train_df = vect.transform(X_train)\n",
    "X_test_df = vect.transform(X_test)"
   ]
  },
  {
   "cell_type": "markdown",
   "id": "f82e0da8",
   "metadata": {},
   "source": [
    "# 4. Machine Learning Model\n",
    "\n",
    "# 4.1 K-Nearest Neighbors Model\n",
    "\n"
   ]
  },
  {
   "cell_type": "code",
   "execution_count": 19,
   "id": "0af73d93",
   "metadata": {
    "scrolled": true
   },
   "outputs": [
    {
     "name": "stdout",
     "output_type": "stream",
     "text": [
      "0.8095232647270814\n"
     ]
    }
   ],
   "source": [
    "prediction = dict()\n",
    "\n",
    "from sklearn.metrics import accuracy_score, confusion_matrix, classification_report\n",
    "from sklearn.neighbors import KNeighborsClassifier\n",
    "neigh = KNeighborsClassifier(n_neighbors=3)\n",
    "\n",
    "neigh.fit(X_train_df,y_train)\n",
    "\n",
    "pred = neigh.predict(X_test_df)\n",
    "\n",
    "prediction[\"KNeighborsClassifier\"] = accuracy_score(pred,y_test)\n",
    "print( prediction['KNeighborsClassifier'])"
   ]
  },
  {
   "cell_type": "code",
   "execution_count": 21,
   "id": "c9319d15",
   "metadata": {},
   "outputs": [
    {
     "name": "stdout",
     "output_type": "stream",
     "text": [
      "Accuracy of KNN Model is = 80.95232647270814 %\n"
     ]
    }
   ],
   "source": [
    "print('Accuracy of KNN Model is =',prediction['KNeighborsClassifier']*100,'%')"
   ]
  },
  {
   "cell_type": "markdown",
   "id": "1ee6971e",
   "metadata": {},
   "source": [
    "# 4.1.1 Plotting the confusion matrix for the Model "
   ]
  },
  {
   "cell_type": "code",
   "execution_count": 29,
   "id": "e30797c2",
   "metadata": {},
   "outputs": [
    {
     "data": {
      "text/plain": [
       "<AxesSubplot:>"
      ]
     },
     "execution_count": 29,
     "metadata": {},
     "output_type": "execute_result"
    },
    {
     "data": {
      "image/png": "[encoded data removed]",
      "text/plain": [
       "<Figure size 936x576 with 2 Axes>"
      ]
     },
     "metadata": {
      "needs_background": "light"
     },
     "output_type": "display_data"
    }
   ],
   "source": [
    "# Plotting the Confusion Matrix for the KNN Model\n",
    "# Plot confusion matrix\n",
    "import seaborn as sns\n",
    "conf_mat = confusion_matrix(y_test, pred, labels = types)\n",
    "\n",
    "# #Normalize confusion_matrix\n",
    "conf_mat = conf_mat.astype('float')/ conf_mat.sum(axis=1)[:, np.newaxis]\n",
    "\n",
    "# Plot Heat Map\n",
    "fig , ax = plt.subplots()\n",
    "fig.set_size_inches(13, 8)\n",
    "sns.heatmap(conf_mat)"
   ]
  },
  {
   "cell_type": "markdown",
   "id": "29372776",
   "metadata": {},
   "source": [
    "# 4.1.2 Displaying the Classification Report with different metrics"
   ]
  },
  {
   "cell_type": "code",
   "execution_count": 30,
   "id": "eea99aba",
   "metadata": {},
   "outputs": [
    {
     "name": "stdout",
     "output_type": "stream",
     "text": [
      "                                         precision    recall  f1-score   support\n",
      "\n",
      "                  ANTIMICROBIAL PROTEIN       0.57      0.74      0.64       182\n",
      "                              APOPTOSIS       0.68      0.89      0.77       422\n",
      "                   BIOSYNTHETIC PROTEIN       0.86      0.74      0.79       276\n",
      "                         BLOOD CLOTTING       0.25      0.69      0.36       183\n",
      "                          CELL ADHESION       0.71      0.78      0.74       906\n",
      "                             CELL CYCLE       0.53      0.75      0.62       708\n",
      "                              CHAPERONE       0.87      0.89      0.88      1203\n",
      "                    CONTRACTILE PROTEIN       0.86      0.72      0.78       361\n",
      "                               CYTOKINE       0.87      0.79      0.83       256\n",
      "                        DE NOVO PROTEIN       0.66      0.83      0.74       499\n",
      "                    DNA BINDING PROTEIN       0.85      0.78      0.81       959\n",
      "                     ELECTRON TRANSPORT       0.77      0.72      0.74       928\n",
      "                    FLUORESCENT PROTEIN       0.97      0.97      0.97       316\n",
      "                        GENE REGULATION       0.72      0.80      0.76       422\n",
      "                                HORMONE       0.75      0.93      0.83       454\n",
      "                  HORMONE/GROWTH FACTOR       0.64      0.36      0.46       181\n",
      "                              HYDROLASE       0.70      0.88      0.78     13998\n",
      "          HYDROLASE/HYDROLASE INHIBITOR       0.64      0.76      0.69      3390\n",
      "          Hydrolase/Hydrolase Inhibitor       0.43      0.35      0.39       172\n",
      "                          IMMUNE SYSTEM       0.82      0.89      0.85      4580\n",
      "                              ISOMERASE       0.96      0.85      0.90      1923\n",
      "                                 LIGASE       0.89      0.77      0.83      1442\n",
      "                  LIPID BINDING PROTEIN       0.73      0.67      0.70       252\n",
      "                                  LYASE       0.95      0.88      0.91      3471\n",
      "                  LYASE/LYASE INHIBITOR       0.59      0.53      0.56       164\n",
      "                       MEMBRANE PROTEIN       0.81      0.71      0.76      1484\n",
      "                  METAL BINDING PROTEIN       0.79      0.68      0.73       909\n",
      "                        METAL TRANSPORT       0.89      0.76      0.82       382\n",
      "                          MOTOR PROTEIN       0.76      0.70      0.73       349\n",
      "                         OXIDOREDUCTASE       0.95      0.89      0.92     10318\n",
      "      OXIDOREDUCTASE/ELECTRON TRANSPORT       0.61      0.60      0.61       138\n",
      "OXIDOREDUCTASE/OXIDOREDUCTASE INHIBITOR       0.72      0.62      0.66       431\n",
      "               OXYGEN STORAGE/TRANSPORT       0.47      0.65      0.55       202\n",
      "                       OXYGEN TRANSPORT       0.67      0.57      0.61       282\n",
      "                PEPTIDE BINDING PROTEIN       0.26      0.71      0.39       187\n",
      "                         PHOTOSYNTHESIS       0.85      0.88      0.87       972\n",
      "                          PLANT PROTEIN       0.86      0.71      0.78       185\n",
      "                        PROTEIN BINDING       0.77      0.60      0.68      1499\n",
      "                         PROTEIN FIBRIL       0.74      0.91      0.82       374\n",
      "                      PROTEIN TRANSPORT       0.69      0.66      0.67       799\n",
      "                            REPLICATION       0.82      0.62      0.70       156\n",
      "                    RNA BINDING PROTEIN       0.85      0.64      0.73       585\n",
      "                      SIGNALING PROTEIN       0.79      0.66      0.72      1949\n",
      "  STRUCTURAL GENOMICS, UNKNOWN FUNCTION       0.93      0.48      0.63      1031\n",
      "                     STRUCTURAL PROTEIN       0.83      0.76      0.79      1361\n",
      "                  SUGAR BINDING PROTEIN       0.89      0.86      0.87      1018\n",
      "                                  TOXIN       0.93      0.75      0.83       770\n",
      "                          TRANSCRIPTION       0.82      0.73      0.77      2714\n",
      "                TRANSCRIPTION REGULATOR       0.80      0.61      0.69       194\n",
      "                            TRANSFERASE       0.93      0.85      0.88     10902\n",
      "      TRANSFERASE/TRANSFERASE INHIBITOR       0.66      0.61      0.63       867\n",
      "                            TRANSLATION       0.91      0.66      0.77       310\n",
      "                      TRANSPORT PROTEIN       0.88      0.72      0.79      2536\n",
      "                       UNKNOWN FUNCTION       0.89      0.62      0.73       873\n",
      "                          VIRAL PROTEIN       0.91      0.84      0.87      2566\n",
      "            VIRAL PROTEIN/IMMUNE SYSTEM       0.68      0.66      0.67       353\n",
      "                                  VIRUS       0.86      0.95      0.90      2192\n",
      "                    VIRUS LIKE PARTICLE       0.97      0.94      0.96       230\n",
      "          hydrolase/hydrolase inhibitor       0.53      0.24      0.33       197\n",
      "  structural genomics, unknown function       0.90      0.45      0.60       285\n",
      "      transferase/transferase inhibitor       0.58      0.40      0.47       159\n",
      "\n",
      "                               accuracy                           0.81     87407\n",
      "                              macro avg       0.76      0.72      0.73     87407\n",
      "                           weighted avg       0.83      0.81      0.81     87407\n",
      "\n"
     ]
    }
   ],
   "source": [
    "from sklearn import metrics\n",
    "print(metrics.classification_report(y_test, pred))"
   ]
  },
  {
   "cell_type": "markdown",
   "id": "d0c5a834",
   "metadata": {},
   "source": [
    "# 4.2 Naive Bayes Model\n",
    "\n"
   ]
  },
  {
   "cell_type": "code",
   "execution_count": 45,
   "id": "6f130146",
   "metadata": {},
   "outputs": [
    {
     "name": "stdout",
     "output_type": "stream",
     "text": [
      "Accuracy of Naive Bayes Model is =  53.136476483576836 %\n"
     ]
    }
   ],
   "source": [
    "# Naive Bayes\n",
    "\n",
    "from sklearn.naive_bayes import MultinomialNB\n",
    "\n",
    "m = MultinomialNB()\n",
    "m.fit(X_train_df, y_train)\n",
    "pred = m.predict(X_test_df)\n",
    "prediction[\"MultinomialNB\"] = accuracy_score(pred, y_test)\n",
    "print( 'Accuracy of Naive Bayes Model is = ',prediction['MultinomialNB']*100,'%')"
   ]
  },
  {
   "cell_type": "markdown",
   "id": "c29a8c21",
   "metadata": {},
   "source": [
    "# 4.2.1 Plotting the confusion matrix for the Model"
   ]
  },
  {
   "cell_type": "code",
   "execution_count": 46,
   "id": "59a704b9",
   "metadata": {},
   "outputs": [
    {
     "data": {
      "text/plain": [
       "<AxesSubplot:>"
      ]
     },
     "execution_count": 46,
     "metadata": {},
     "output_type": "execute_result"
    },
    {
     "data": {
      "image/png": "[encoded data removed]",
      "text/plain": [
       "<Figure size 936x576 with 2 Axes>"
      ]
     },
     "metadata": {
      "needs_background": "light"
     },
     "output_type": "display_data"
    }
   ],
   "source": [
    "# Plotting the Confusion Matrix for the NB Model\n",
    "# Plot confusion matrix\n",
    "import seaborn as sns\n",
    "conf_mat = confusion_matrix(y_test, pred, labels = types)\n",
    "\n",
    "# #Normalize confusion_matrix\n",
    "conf_mat = conf_mat.astype('float')/ conf_mat.sum(axis=1)[:, np.newaxis]\n",
    "\n",
    "# Plot Heat Map\n",
    "fig , ax = plt.subplots()\n",
    "fig.set_size_inches(13, 8)\n",
    "sns.heatmap(conf_mat)"
   ]
  },
  {
   "cell_type": "markdown",
   "id": "a0a3b93d",
   "metadata": {},
   "source": [
    "# 4.2.2 Displaying the Classification Report with different metrics"
   ]
  },
  {
   "cell_type": "code",
   "execution_count": 47,
   "id": "ee01afc4",
   "metadata": {},
   "outputs": [
    {
     "name": "stdout",
     "output_type": "stream",
     "text": [
      "                                         precision    recall  f1-score   support\n",
      "\n",
      "                  ANTIMICROBIAL PROTEIN       0.26      0.71      0.39       182\n",
      "                              APOPTOSIS       0.39      0.53      0.45       422\n",
      "                   BIOSYNTHETIC PROTEIN       0.54      0.62      0.58       276\n",
      "                         BLOOD CLOTTING       0.33      0.72      0.46       183\n",
      "                          CELL ADHESION       0.35      0.63      0.45       906\n",
      "                             CELL CYCLE       0.46      0.40      0.43       708\n",
      "                              CHAPERONE       0.85      0.60      0.71      1203\n",
      "                    CONTRACTILE PROTEIN       0.70      0.72      0.71       361\n",
      "                               CYTOKINE       0.55      0.77      0.65       256\n",
      "                        DE NOVO PROTEIN       0.54      0.70      0.61       499\n",
      "                    DNA BINDING PROTEIN       0.50      0.50      0.50       959\n",
      "                     ELECTRON TRANSPORT       0.61      0.58      0.60       928\n",
      "                    FLUORESCENT PROTEIN       0.95      0.91      0.93       316\n",
      "                        GENE REGULATION       0.73      0.51      0.60       422\n",
      "                                HORMONE       0.60      0.90      0.72       454\n",
      "                  HORMONE/GROWTH FACTOR       0.19      0.23      0.21       181\n",
      "                              HYDROLASE       0.52      0.50      0.51     13998\n",
      "          HYDROLASE/HYDROLASE INHIBITOR       0.72      0.50      0.59      3390\n",
      "          Hydrolase/Hydrolase Inhibitor       0.06      0.31      0.10       172\n",
      "                          IMMUNE SYSTEM       0.85      0.60      0.70      4580\n",
      "                              ISOMERASE       0.71      0.58      0.64      1923\n",
      "                                 LIGASE       0.52      0.59      0.55      1442\n",
      "                  LIPID BINDING PROTEIN       0.54      0.67      0.60       252\n",
      "                                  LYASE       0.50      0.63      0.56      3471\n",
      "                  LYASE/LYASE INHIBITOR       0.31      0.75      0.44       164\n",
      "                       MEMBRANE PROTEIN       0.54      0.46      0.50      1484\n",
      "                  METAL BINDING PROTEIN       0.51      0.49      0.50       909\n",
      "                        METAL TRANSPORT       0.66      0.59      0.62       382\n",
      "                          MOTOR PROTEIN       0.57      0.40      0.47       349\n",
      "                         OXIDOREDUCTASE       0.64      0.59      0.61     10318\n",
      "      OXIDOREDUCTASE/ELECTRON TRANSPORT       0.13      0.51      0.21       138\n",
      "OXIDOREDUCTASE/OXIDOREDUCTASE INHIBITOR       0.39      0.71      0.50       431\n",
      "               OXYGEN STORAGE/TRANSPORT       0.33      0.70      0.45       202\n",
      "                       OXYGEN TRANSPORT       0.73      0.29      0.41       282\n",
      "                PEPTIDE BINDING PROTEIN       0.39      0.63      0.48       187\n",
      "                         PHOTOSYNTHESIS       0.80      0.71      0.75       972\n",
      "                          PLANT PROTEIN       0.74      0.57      0.64       185\n",
      "                        PROTEIN BINDING       0.26      0.44      0.33      1499\n",
      "                         PROTEIN FIBRIL       0.83      0.83      0.83       374\n",
      "                      PROTEIN TRANSPORT       0.29      0.52      0.37       799\n",
      "                            REPLICATION       0.37      0.62      0.46       156\n",
      "                    RNA BINDING PROTEIN       0.44      0.59      0.51       585\n",
      "                      SIGNALING PROTEIN       0.40      0.34      0.37      1949\n",
      "  STRUCTURAL GENOMICS, UNKNOWN FUNCTION       0.21      0.56      0.31      1031\n",
      "                     STRUCTURAL PROTEIN       0.81      0.37      0.51      1361\n",
      "                  SUGAR BINDING PROTEIN       0.72      0.74      0.73      1018\n",
      "                                  TOXIN       0.49      0.65      0.56       770\n",
      "                          TRANSCRIPTION       0.56      0.48      0.52      2714\n",
      "                TRANSCRIPTION REGULATOR       0.49      0.55      0.52       194\n",
      "                            TRANSFERASE       0.55      0.48      0.51     10902\n",
      "      TRANSFERASE/TRANSFERASE INHIBITOR       0.31      0.60      0.41       867\n",
      "                            TRANSLATION       0.74      0.59      0.66       310\n",
      "                      TRANSPORT PROTEIN       0.54      0.29      0.38      2536\n",
      "                       UNKNOWN FUNCTION       0.52      0.42      0.46       873\n",
      "                          VIRAL PROTEIN       0.71      0.42      0.53      2566\n",
      "            VIRAL PROTEIN/IMMUNE SYSTEM       0.26      0.60      0.36       353\n",
      "                                  VIRUS       0.86      0.61      0.71      2192\n",
      "                    VIRUS LIKE PARTICLE       0.80      0.90      0.85       230\n",
      "          hydrolase/hydrolase inhibitor       0.08      0.41      0.13       197\n",
      "  structural genomics, unknown function       0.61      0.47      0.53       285\n",
      "      transferase/transferase inhibitor       0.20      0.52      0.28       159\n",
      "\n",
      "                               accuracy                           0.53     87407\n",
      "                              macro avg       0.52      0.57      0.52     87407\n",
      "                           weighted avg       0.58      0.53      0.54     87407\n",
      "\n"
     ]
    }
   ],
   "source": [
    "from sklearn import metrics\n",
    "print(metrics.classification_report(y_test, pred))"
   ]
  },
  {
   "cell_type": "markdown",
   "id": "6fe356b6",
   "metadata": {},
   "source": [
    "# 5. Comparing the Models"
   ]
  },
  {
   "cell_type": "code",
   "execution_count": 49,
   "id": "ca8e0e2f",
   "metadata": {},
   "outputs": [
    {
     "data": {
      "image/png": "[encoded data removed]",
      "text/plain": [
       "<Figure size 432x288 with 1 Axes>"
      ]
     },
     "metadata": {
      "needs_background": "light"
     },
     "output_type": "display_data"
    }
   ],
   "source": [
    "knn = [0.80,0.83,0.81,0.81]\n",
    "nb = [0.53,0.58,0.53,0.54]\n",
    "\n",
    "# Comparing the Results of the two models\n",
    "index = np.arange(4)\n",
    "bar_width = 0.4\n",
    "\n",
    "fig, axis = plt.subplots()\n",
    "K_NN = axis.bar(index, knn, bar_width,\n",
    "                label=\"KNN\")\n",
    "\n",
    "N_B = axis.bar(index+bar_width, nb,\n",
    "                 bar_width, label=\"Naive Bayes\")\n",
    "\n",
    "axis.set_xlabel('Metrices')\n",
    "axis.set_ylabel('Value')\n",
    "axis.set_title('Metrics value comparison for both models')\n",
    "axis.set_xticks(index + bar_width / 2)\n",
    "axis.set_xticklabels([\"Accuracy\", \"Precision\", \"Recall\", \"F1-Score\"])\n",
    "axis.legend()\n",
    "\n",
    "plt.show()\n",
    "\n"
   ]
  },
  {
   "cell_type": "code",
   "execution_count": null,
   "id": "b8391584",
   "metadata": {},
   "outputs": [],
   "source": []
  },
  {
   "cell_type": "code",
   "execution_count": null,
   "id": "b6d2c47b",
   "metadata": {},
   "outputs": [],
   "source": []
  }
 ],
 "metadata": {
  "kernelspec": {
   "display_name": "Python 3 (ipykernel)",
   "language": "python",
   "name": "python3"
  },
  "language_info": {
   "codemirror_mode": {
    "name": "ipython",
    "version": 3
   },
   "file_extension": ".py",
   "mimetype": "text/x-python",
   "name": "python",
   "nbconvert_exporter": "python",
   "pygments_lexer": "ipython3",
   "version": "3.9.12"
  }
 },
 "nbformat": 4,
 "nbformat_minor": 5
}
